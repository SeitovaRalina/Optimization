{
 "cells": [
  {
   "cell_type": "code",
   "execution_count": 6,
   "metadata": {},
   "outputs": [],
   "source": [
    "from functools import partial\n",
    "\n",
    "def f(x: list[float], coeffs: list[float]) -> float:\n",
    "    '''return a(x1 - b)^2 + c(x2 - d)^2'''\n",
    "    return coeffs[0]*(x[0] - coeffs[1])**2 + coeffs[2]*(x[1] - coeffs[3])**2\n",
    "\n",
    "f1 = partial(f, coeffs=[2,  6, 3,  6])\n",
    "\n",
    "f2 = partial(f, coeffs=[3, -4, 1, -6])\n",
    "\n",
    "f3 = partial(f, coeffs=[1, -7, 2,  8])\n",
    "\n",
    "funcs = [f1, f2, f3]\n",
    "\n",
    "concessions = [10, 100]\n",
    "\n",
    "x0 = [.0, .0]"
   ]
  },
  {
   "cell_type": "code",
   "execution_count": 12,
   "metadata": {},
   "outputs": [
    {
     "data": {
      "text/plain": [
       "array([[5.99999999, 5.99999999],\n",
       "       [3.91658518, 5.33698533],\n",
       "       [3.8246716 , 6.4226475 ]])"
      ]
     },
     "execution_count": 12,
     "metadata": {},
     "output_type": "execute_result"
    }
   ],
   "source": [
    "from scipy.optimize import minimize\n",
    "import numpy as np\n",
    "points = []\n",
    "constr0 = None\n",
    "concessions1, concessions2, concessions3 = 10, 100, 0\n",
    "\n",
    "#### ------ итерация 0 ------ ####\n",
    "\n",
    "min_x1 = minimize(f1, x0, constraints=constr0).x # [6, 6]\n",
    "\n",
    "ff1 = lambda x: f1(x) - f1(min_x1)\n",
    "\n",
    "constr1 = [{'type': 'ineq', 'fun': lambda x: -ff1(x) + concessions1}]\n",
    "\n",
    "points.append(min_x1)\n",
    "\n",
    "#### ------ итерация 1 ------ ####\n",
    "\n",
    "min_x2 = minimize(f2, min_x1, constraints=constr1).x # [3.91, 5.33]\n",
    "\n",
    "ff2 = lambda x: f2(x) - f2(min_x2)\n",
    "\n",
    "constr2 = [\n",
    "    {'type': 'ineq', 'fun': lambda x: -ff1(x) + concessions1},\n",
    "    {'type': 'ineq', 'fun': lambda x: -ff2(x) + concessions2}\n",
    "]\n",
    "\n",
    "points.append(min_x2)\n",
    "\n",
    "#### ------ итерация 3 ------ ####\n",
    "\n",
    "min_x3 = minimize(f3, min_x2, constraints=constr2).x # [3.82, 6.42]\n",
    "\n",
    "ff3 = lambda x: f3(x) - f3(min_x3)\n",
    "\n",
    "constr3 = [\n",
    "    {'type': 'ineq', 'fun': lambda x: -ff1(x) + concessions1},\n",
    "    {'type': 'ineq', 'fun': lambda x: -ff2(x) + concessions2},\n",
    "    {'type': 'ineq', 'fun': lambda x: -ff3(x) + concessions3}\n",
    "]\n",
    "\n",
    "points.append(min_x3)\n",
    "points = np.array(points)\n",
    "points"
   ]
  },
  {
   "cell_type": "code",
   "execution_count": 13,
   "metadata": {},
   "outputs": [
    {
     "data": {
      "text/plain": [
       "array([[5.99999999, 5.99999999],\n",
       "       [3.91658518, 5.33698533],\n",
       "       [3.8246716 , 6.4226475 ]])"
      ]
     },
     "execution_count": 13,
     "metadata": {},
     "output_type": "execute_result"
    }
   ],
   "source": [
    "from copy import copy\n",
    "\n",
    "def ffffff(x0, funcs, concessions):\n",
    "\tconstr = []\n",
    "\tpoints = []\n",
    "\tconcessions += [0]\n",
    "\tx_ = x0\n",
    "\tfor i in range(len(funcs)):\n",
    "\t\tmin_x = minimize(funcs[i], x_, constraints=constr).x\n",
    "\t\tx_ = min_x\n",
    "\t\tfunc = copy(funcs[i])\n",
    "\t\tconcession = copy(concessions[i])\n",
    "\t\tinequality = lambda x: func(x) - func(min_x)\n",
    "\t\tconstr.append(\n",
    "\t\t\t{'type': 'ineq', 'fun': lambda x: -inequality(x) + concession}\n",
    "\t\t)\n",
    "\t\tpoints.append(min_x)\n",
    "\treturn points\n",
    "\n",
    "points = ffffff(x0, funcs, concessions)\n",
    "points"
   ]
  },
  {
   "cell_type": "code",
   "execution_count": 14,
   "metadata": {},
   "outputs": [
    {
     "data": {
      "text/plain": [
       "<matplotlib.collections.PathCollection at 0x1b6f5852350>"
      ]
     },
     "execution_count": 14,
     "metadata": {},
     "output_type": "execute_result"
    },
    {
     "data": {
      "image/png": "[encoded data removed]",
      "text/plain": [
       "<Figure size 640x480 with 1 Axes>"
      ]
     },
     "metadata": {},
     "output_type": "display_data"
    }
   ],
   "source": [
    "import matplotlib.pyplot as plt\n",
    "\n",
    "plt.scatter(points[:, 0], points[:, 1])"
   ]
  }
 ],
 "metadata": {
  "kernelspec": {
   "display_name": "Python 3",
   "language": "python",
   "name": "python3"
  },
  "language_info": {
   "codemirror_mode": {
    "name": "ipython",
    "version": 3
   },
   "file_extension": ".py",
   "mimetype": "text/x-python",
   "name": "python",
   "nbconvert_exporter": "python",
   "pygments_lexer": "ipython3",
   "version": "3.11.7"
  }
 },
 "nbformat": 4,
 "nbformat_minor": 2
}
