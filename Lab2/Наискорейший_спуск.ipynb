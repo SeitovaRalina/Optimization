{
 "cells": [
  {
   "cell_type": "code",
   "execution_count": 20,
   "metadata": {},
   "outputs": [],
   "source": [
    "import warnings\n",
    "warnings.filterwarnings('ignore')"
   ]
  },
  {
   "cell_type": "markdown",
   "metadata": {},
   "source": [
    "# Метод наискорейшего спуска"
   ]
  },
  {
   "cell_type": "markdown",
   "metadata": {},
   "source": [
    "## Объяснение метода"
   ]
  },
  {
   "cell_type": "code",
   "execution_count": 21,
   "metadata": {},
   "outputs": [
    {
     "data": {
      "text/latex": [
       "$\\displaystyle x_{1}^{2} + x_{1} x_{2} + x_{1} + 2 x_{2}^{2} - x_{2}$"
      ],
      "text/plain": [
       "x1**2 + x1*x2 + x1 + 2*x2**2 - x2"
      ]
     },
     "execution_count": 21,
     "metadata": {},
     "output_type": "execute_result"
    }
   ],
   "source": [
    "import sympy as sym\n",
    "import numpy as np\n",
    "\n",
    "### Дано\n",
    "\n",
    "variables = x1, x2 = sym.symbols('x1 x2')\n",
    "\n",
    "# функция из методички\n",
    "f = x1**2 + x1*x2 + 2*x2**2 + x1 - x2\n",
    "\n",
    "x0 = np.array([0, 0])\n",
    "eps = 0.1\n",
    "\n",
    "f"
   ]
  },
  {
   "cell_type": "code",
   "execution_count": 22,
   "metadata": {},
   "outputs": [
    {
     "data": {
      "text/plain": [
       "(s1, s2)"
      ]
     },
     "execution_count": 22,
     "metadata": {},
     "output_type": "execute_result"
    }
   ],
   "source": [
    "N = len(variables)\n",
    "\n",
    "a = sym.symbols('a')\n",
    "\n",
    "# составляем переменные s_i для каждого x_i\n",
    "s_variables = sym.symbols(' '.join( [f's{i}' for i in range(1, N + 1)] ) )\n",
    "\n",
    "s_variables"
   ]
  },
  {
   "cell_type": "code",
   "execution_count": 23,
   "metadata": {},
   "outputs": [
    {
     "data": {
      "text/plain": [
       "[(x1, a*s1 + x1), (x2, a*s2 + x2)]"
      ]
     },
     "execution_count": 23,
     "metadata": {},
     "output_type": "execute_result"
    }
   ],
   "source": [
    "# [(x_i, a*s_i + x_i)] - лист кортежей с заменой\n",
    "replacement = [(variables[i], variables[i] + a * s_variables[i]) for i in range(N)]\n",
    "\n",
    "replacement"
   ]
  },
  {
   "cell_type": "code",
   "execution_count": 24,
   "metadata": {},
   "outputs": [
    {
     "data": {
      "text/latex": [
       "$\\displaystyle 2 x_{1} + x_{2} + 1$"
      ],
      "text/plain": [
       "2*x1 + x2 + 1"
      ]
     },
     "metadata": {},
     "output_type": "display_data"
    },
    {
     "data": {
      "text/latex": [
       "$\\displaystyle x_{1} + 4 x_{2} - 1$"
      ],
      "text/plain": [
       "x1 + 4*x2 - 1"
      ]
     },
     "metadata": {},
     "output_type": "display_data"
    }
   ],
   "source": [
    "# градиент функции по всем переменным\n",
    "gradients_f = [sym.diff(f, variable) for variable in variables]\n",
    "\n",
    "display(*gradients_f)"
   ]
  },
  {
   "cell_type": "code",
   "execution_count": 25,
   "metadata": {},
   "outputs": [
    {
     "data": {
      "text/latex": [
       "$\\displaystyle 2 a s_{1} + a s_{2} + 2 x_{1} + x_{2} + 1$"
      ],
      "text/plain": [
       "2*a*s1 + a*s2 + 2*x1 + x2 + 1"
      ]
     },
     "metadata": {},
     "output_type": "display_data"
    },
    {
     "data": {
      "text/latex": [
       "$\\displaystyle a s_{1} + 4 a s_{2} + x_{1} + 4 x_{2} - 1$"
      ],
      "text/plain": [
       "a*s1 + 4*a*s2 + x1 + 4*x2 - 1"
      ]
     },
     "metadata": {},
     "output_type": "display_data"
    }
   ],
   "source": [
    "# заменяем переменные в градиенте\n",
    "gradients_f = [f.subs(replacement) for f in gradients_f]\n",
    "\n",
    "display(*gradients_f)"
   ]
  },
  {
   "cell_type": "code",
   "execution_count": 26,
   "metadata": {},
   "outputs": [
    {
     "data": {
      "text/latex": [
       "$\\displaystyle s_{1} \\cdot \\left(2 a s_{1} + a s_{2} + 2 x_{1} + x_{2} + 1\\right) + s_{2} \\left(a s_{1} + 4 a s_{2} + x_{1} + 4 x_{2} - 1\\right)$"
      ],
      "text/plain": [
       "s1*(2*a*s1 + a*s2 + 2*x1 + x2 + 1) + s2*(a*s1 + 4*a*s2 + x1 + 4*x2 - 1)"
      ]
     },
     "execution_count": 26,
     "metadata": {},
     "output_type": "execute_result"
    }
   ],
   "source": [
    "# домножаем градиент по каждой переменной на s_i\n",
    "expr = sum([gradients_f[i] * s_variables[i] for i in range(N)])\n",
    "expr"
   ]
  },
  {
   "cell_type": "code",
   "execution_count": 28,
   "metadata": {},
   "outputs": [
    {
     "data": {
      "text/latex": [
       "$\\displaystyle \\frac{- 2 s_{1} x_{1} - s_{1} x_{2} - s_{1} - s_{2} x_{1} - 4 s_{2} x_{2} + s_{2}}{2 \\left(s_{1}^{2} + s_{1} s_{2} + 2 s_{2}^{2}\\right)}$"
      ],
      "text/plain": [
       "(-2*s1*x1 - s1*x2 - s1 - s2*x1 - 4*s2*x2 + s2)/(2*(s1**2 + s1*s2 + 2*s2**2))"
      ]
     },
     "execution_count": 28,
     "metadata": {},
     "output_type": "execute_result"
    }
   ],
   "source": [
    "# выражаем a\n",
    "solution = sym.solve(expr, a)[0]\n",
    "solution"
   ]
  },
  {
   "cell_type": "markdown",
   "metadata": {},
   "source": [
    "Получаем функцию, зависящую от:\n",
    "\n",
    "* начальной точки с координатами x1..xn \n",
    "\n",
    "* градиента функции начальной точки s1..sn"
   ]
  },
  {
   "cell_type": "markdown",
   "metadata": {},
   "source": [
    "## Наискорейший спуск"
   ]
  },
  {
   "cell_type": "code",
   "execution_count": 29,
   "metadata": {},
   "outputs": [],
   "source": [
    "import sympy as sym\n",
    "import numpy as np\n",
    "\n",
    "norm = np.linalg.norm\n",
    "\n",
    "def get_alfa_from_x_and_gradient(variables, f):\n",
    "    N = len(variables)\n",
    "\n",
    "    a = sym.symbols('a')\n",
    "\n",
    "    # составляем переменные s_i для каждого x_i\n",
    "    s_variables = sym.symbols(' '.join( [f's{i}' for i in range(1, N + 1)] ) )\n",
    "\n",
    "    # [(x_i, a*s_i + x_i)] - лист кортежей с заменой\n",
    "    replacement = [(variables[i], variables[i] + a * s_variables[i]) for i in range(N)]\n",
    "\n",
    "    # градиент функции по всем переменным\n",
    "    gradients_f = [sym.diff(f, variable) for variable in variables]\n",
    "\n",
    "    # заменяем переменные в градиенте\n",
    "    gradients_f = [f.subs(replacement) for f in gradients_f]\n",
    "\n",
    "    # домножаем градиент по каждой переменной на s_i\n",
    "    expr = sum([gradients_f[i] * s_variables[i] for i in range(N)])\n",
    "    \n",
    "    # выражаем a\n",
    "    solution = sym.solve(expr, a)[0]\n",
    "\n",
    "    return sym.lambdify(variables + s_variables, solution)\n",
    "\n",
    "def get_func_gradient_from_point(variables, f, x0):\n",
    "    # градиент функции по всем переменным\n",
    "    gradients_f = [sym.diff(f, variable) for variable in variables]\n",
    "\n",
    "    # превращение из символьного представления в функцию\n",
    "    lambd_gradients_f = [\n",
    "        sym.lambdify(variables, gradient_f) for gradient_f in gradients_f]\n",
    "    \n",
    "    grad_f_x = np.array([f(*x0) for f in lambd_gradients_f])\n",
    "\n",
    "    return np.where(np.abs(grad_f_x) > 0.0001, grad_f_x, 0)\n",
    "\n",
    "def steepest_descent(\n",
    "    variables: list[sym.Symbol],\n",
    "    f: sym.Add,\n",
    "    x0: np.ndarray,\n",
    "    eps: float\n",
    "):\n",
    "    x1 = x0\n",
    "\n",
    "    alfa = get_alfa_from_x_and_gradient(variables, f)\n",
    "\n",
    "    for _ in range(1000):\n",
    "        grad_f_x = get_func_gradient_from_point(variables, f, x1)\n",
    "        \n",
    "        alfa_ = alfa(*x1, *-grad_f_x)\n",
    "\n",
    "        x1 = x0 + alfa_ * -grad_f_x\n",
    "\n",
    "        if norm(x1 - x0) < eps:\n",
    "            return x1\n",
    "        x0 = x1"
   ]
  },
  {
   "cell_type": "code",
   "execution_count": 30,
   "metadata": {},
   "outputs": [
    {
     "data": {
      "text/plain": [
       "array([-0.6875,  0.4375])"
      ]
     },
     "execution_count": 30,
     "metadata": {},
     "output_type": "execute_result"
    }
   ],
   "source": [
    "### Дано\n",
    "variables = x1, x2 = sym.symbols('x1 x2')\n",
    "# функция из методички\n",
    "f = x1**2 + x1*x2 + 2*x2**2 + x1 - x2\n",
    "\n",
    "x0 = np.array([0, 0])\n",
    "eps = 0.1\n",
    "\n",
    "steepest_descent(variables, f, x0, eps)"
   ]
  },
  {
   "cell_type": "code",
   "execution_count": 4,
   "metadata": {},
   "outputs": [
    {
     "name": "stdout",
     "output_type": "stream",
     "text": [
      "None\n"
     ]
    }
   ],
   "source": [
    "# функция 7 варианта\n",
    "f = 10 - (x1 - 3) * sym.exp(-x1 + 3) - (x2 - 2) * sym.exp(-x1 + 2)\n",
    "\n",
    "print(steepest_descent(variables, f, np.array([0,0]), 0.1))"
   ]
  }
 ],
 "metadata": {
  "kernelspec": {
   "display_name": "Python 3",
   "language": "python",
   "name": "python3"
  },
  "language_info": {
   "codemirror_mode": {
    "name": "ipython",
    "version": 3
   },
   "file_extension": ".py",
   "mimetype": "text/x-python",
   "name": "python",
   "nbconvert_exporter": "python",
   "pygments_lexer": "ipython3",
   "version": "3.11.7"
  }
 },
 "nbformat": 4,
 "nbformat_minor": 2
}
