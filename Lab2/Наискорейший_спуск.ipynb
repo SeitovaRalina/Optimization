{
 "cells": [
  {
   "cell_type": "code",
   "execution_count": 6,
   "metadata": {},
   "outputs": [],
   "source": [
    "import warnings\n",
    "warnings.filterwarnings('ignore')"
   ]
  },
  {
   "cell_type": "markdown",
   "metadata": {},
   "source": [
    "# Метод наискорейшего спуска"
   ]
  },
  {
   "cell_type": "code",
   "execution_count": 1,
   "metadata": {},
   "outputs": [
    {
     "data": {
      "text/plain": [
       "array([-0.6875,  0.4375])"
      ]
     },
     "execution_count": 1,
     "metadata": {},
     "output_type": "execute_result"
    }
   ],
   "source": [
    "import sympy as sym\n",
    "import numpy as np\n",
    "\n",
    "norm = np.linalg.norm\n",
    "\n",
    "def get_alfa_from_x_and_gradient(f):\n",
    "    # переменные\n",
    "    variables = tuple(f.free_symbols)\n",
    "\n",
    "    # сортировка переменных по числу: x1,x2,...,xn\n",
    "    variables = sorted(variables, key=\n",
    "                       lambda var: int(sym.srepr(var)[-3]))\n",
    "\n",
    "    N = len(variables)\n",
    "\n",
    "    # градиент функции по всем переменным\n",
    "    gradients_f = [\n",
    "        sym.diff(f, variable) for variable in variables]\n",
    "\n",
    "    a = sym.symbols('a')\n",
    "\n",
    "    # составляем переменные s_i для каждого x_i\n",
    "    s_variables = list(sym.symbols(' '.join([\n",
    "        f's{sym.srepr(variable)[-3]}' for variable in variables\n",
    "    ])))\n",
    "\n",
    "    # [(x_i, a*s_i + x_i)] - лист кортежей с заменой\n",
    "    replacement = [(variables[i], variables[i] + a * s_variables[i]) \n",
    "                    for i in range(N)]\n",
    "\n",
    "    # градиент функции по всем переменным\n",
    "    gradients_f = [\n",
    "        sym.diff(f, variable) for variable in variables]\n",
    "\n",
    "    # заменяем переменные в градиенте\n",
    "    gradients_f = [\n",
    "        f.subs(replacement) for f in gradients_f\n",
    "    ]\n",
    "\n",
    "    # домножаем градиент по каждой переменной на s_i\n",
    "    expr = sum([gradients_f[i] * s_variables[i] \n",
    "                for i in range(N)])\n",
    "    \n",
    "    # выражаем a\n",
    "    solution = sym.solve(expr, a)[0]\n",
    "\n",
    "    return sym.lambdify(variables + s_variables, solution)\n",
    "\n",
    "def get_gradient(f, x0):\n",
    "    # переменные\n",
    "    variables = tuple(f.free_symbols)\n",
    "\n",
    "    # сортировка переменных по числу\n",
    "    variables = sorted(variables, key=\n",
    "                       lambda var: int(sym.srepr(var)[-3]))\n",
    "\n",
    "    # градиент функции по всем переменным\n",
    "    gradients_f = [\n",
    "        sym.diff(f, variable) for variable in variables]\n",
    "\n",
    "    # превращение из символьного представления в функцию\n",
    "    lambd_gradients_f = [\n",
    "        sym.lambdify(variables, gradient_f) \n",
    "                    for gradient_f in gradients_f]\n",
    "    \n",
    "    grad_f_x = np.array([f(*x0) for f in lambd_gradients_f])\n",
    "\n",
    "    return np.where(np.abs(grad_f_x) > 0.0001, grad_f_x, 0)\n",
    "\n",
    "def steepest_descent(\n",
    "    f: sym.Add,\n",
    "    x0: np.ndarray,\n",
    "    eps: float\n",
    "):\n",
    "    x1 = x0\n",
    "\n",
    "    alfa = get_alfa_from_x_and_gradient(f)\n",
    "\n",
    "    for k in range(1000):\n",
    "        grad_f_x = get_gradient(f, x1)\n",
    "        \n",
    "        alfa_ = alfa(*x1, *-grad_f_x)\n",
    "\n",
    "        x1 = x0 + alfa_ * -grad_f_x\n",
    "\n",
    "        if norm(x1 - x0) < eps:\n",
    "            return x1\n",
    "        x0 = x1"
   ]
  },
  {
   "cell_type": "code",
   "execution_count": null,
   "metadata": {},
   "outputs": [],
   "source": [
    "### Дано\n",
    "x1, x2 = sym.symbols('x1 x2')\n",
    "# функция из методички\n",
    "f = x1**2 + x1*x2 + 2*x2**2 + x1 - x2\n",
    "\n",
    "x0 = np.array([0, 0])\n",
    "eps = 0.1\n",
    "\n",
    "steepest_descent(f, x0, eps)"
   ]
  },
  {
   "cell_type": "code",
   "execution_count": 5,
   "metadata": {},
   "outputs": [
    {
     "name": "stderr",
     "output_type": "stream",
     "text": [
      "<lambdifygenerated-2009>:2: RuntimeWarning: divide by zero encountered in scalar divide\n",
      "  return (-e*s1*x1 - s1*x2 + 2*s1 + 4*e*s1 + s2)/(s1*(e*s1 + s2))\n",
      "C:\\Users\\Azerty\\AppData\\Local\\Temp\\ipykernel_12544\\1023546824.py:84: RuntimeWarning: invalid value encountered in multiply\n",
      "  x1 = x0 + alfa_ * -grad_f_x\n",
      "<lambdifygenerated-2009>:2: RuntimeWarning: invalid value encountered in scalar multiply\n",
      "  return (-e*s1*x1 - s1*x2 + 2*s1 + 4*e*s1 + s2)/(s1*(e*s1 + s2))\n"
     ]
    },
    {
     "name": "stdout",
     "output_type": "stream",
     "text": [
      "None\n"
     ]
    }
   ],
   "source": [
    "x1, x2 = sym.symbols('x1 x2')\n",
    "\n",
    "# функция 7 варианта\n",
    "f = 10 - (x1 - 3) * sym.exp(-x1 + 3) - (x2 - 2) * sym.exp(-x1 + 2)\n",
    "\n",
    "print(steepest_descent(f, np.array([0,0]), 0.1))"
   ]
  }
 ],
 "metadata": {
  "kernelspec": {
   "display_name": "Python 3",
   "language": "python",
   "name": "python3"
  },
  "language_info": {
   "codemirror_mode": {
    "name": "ipython",
    "version": 3
   },
   "file_extension": ".py",
   "mimetype": "text/x-python",
   "name": "python",
   "nbconvert_exporter": "python",
   "pygments_lexer": "ipython3",
   "version": "3.11.7"
  }
 },
 "nbformat": 4,
 "nbformat_minor": 2
}
