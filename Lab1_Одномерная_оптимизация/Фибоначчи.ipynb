{
 "cells": [
  {
   "cell_type": "markdown",
   "metadata": {},
   "source": [
    "# Метод Фибоначчи"
   ]
  },
  {
   "cell_type": "code",
   "execution_count": 1,
   "metadata": {},
   "outputs": [
    {
     "name": "stdout",
     "output_type": "stream",
     "text": [
      "          a         b         l        x1        x2      f_x1      f_x2\n",
      "0 -2.000000  1.000000  3.000000 -0.852941 -0.147059 -4.978374 -4.272491\n",
      "1 -2.000000 -0.147059  1.852941 -1.294118 -0.852941 -4.913495 -4.978374\n",
      "2 -1.294118 -0.147059  1.147059 -0.852941 -0.588235 -4.978374 -4.830450\n",
      "3 -1.294118 -0.588235  0.705882 -1.029412 -0.852941 -4.999135 -4.978374\n",
      "4 -1.294118 -0.852941  0.441176 -1.117647 -1.029412 -4.986159 -4.999135\n",
      "5 -1.117647 -0.852941  0.264706 -1.029412 -0.941176 -4.999135 -4.996540\n",
      "6 -1.117647 -0.852941  0.264706       NaN       NaN       NaN       NaN\n",
      "-0.9852941176470587\n"
     ]
    }
   ],
   "source": [
    "import pandas as pd\n",
    "from typing import Callable\n",
    "\n",
    "def fibonacci(\n",
    "    f: Callable[[float], float],\n",
    "    interval: tuple[float, float],\n",
    "    eps: float\n",
    ") -> float:\n",
    "    a, b = interval\n",
    "\n",
    "    table = pd.DataFrame(\n",
    "        columns=['a','b','l','x1','x2','f_x1','f_x2']\n",
    "        )\n",
    "    \n",
    "    F = [1, 1]\n",
    "    while F[-1] < (b - a) / eps:\n",
    "        F.append(F[-1] + F[-2])\n",
    "    \n",
    "    delta = (b - a) / F[-1]\n",
    "    \n",
    "    N = len(F) - 1\n",
    "    \n",
    "    x1 = a + F[N - 2] * delta\n",
    "    x2 = b - F[N - 2] * delta\n",
    "\n",
    "    f_x1, f_x2 = f(x1), f(x2)\n",
    "\n",
    "    table.loc[len(table)] = [a, b, b-a, x1, x2, f_x1, f_x2]\n",
    "\n",
    "    for k in range(1, N - 2):\n",
    "        if f_x1 < f_x2:\n",
    "            b = x2\n",
    "            x2, f_x2 = x1, f_x1\n",
    "            x1 = a + F[N - k - 2] * delta\n",
    "            f_x1 = f(x1)\n",
    "        else:\n",
    "            a = x1\n",
    "            x1, f_x1 = x2, f_x2\n",
    "            x2 = b - F[N - k - 2] * delta\n",
    "            f_x2 = f(x2)\n",
    "        table.loc[len(table)] = [a, b, b-a, x1, x2, f_x1, f_x2]\n",
    "    \n",
    "    table.loc[len(table)] = [a, b, b-a] + [None]*4\n",
    "\n",
    "    return table, (a + b) / 2\n",
    "\n",
    "f = lambda x: x**2 + 2*x - 4\n",
    "table, result = fibonacci(f, (-2, 1), 0.1)\n",
    "\n",
    "print(table)\n",
    "print(result)"
   ]
  }
 ],
 "metadata": {
  "kernelspec": {
   "display_name": "Python 3",
   "language": "python",
   "name": "python3"
  },
  "language_info": {
   "codemirror_mode": {
    "name": "ipython",
    "version": 3
   },
   "file_extension": ".py",
   "mimetype": "text/x-python",
   "name": "python",
   "nbconvert_exporter": "python",
   "pygments_lexer": "ipython3",
   "version": "3.11.7"
  }
 },
 "nbformat": 4,
 "nbformat_minor": 2
}
