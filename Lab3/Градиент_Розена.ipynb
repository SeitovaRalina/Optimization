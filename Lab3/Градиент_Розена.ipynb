{
 "cells": [
  {
   "cell_type": "markdown",
   "metadata": {},
   "source": [
    "# Метод проекции градиента Розена"
   ]
  },
  {
   "cell_type": "markdown",
   "metadata": {},
   "source": [
    "## Объяснение"
   ]
  },
  {
   "cell_type": "code",
   "execution_count": 106,
   "metadata": {},
   "outputs": [
    {
     "data": {
      "text/latex": [
       "$\\displaystyle x_{1}^{2} + x_{2}^{2}$"
      ],
      "text/plain": [
       "x1**2 + x2**2"
      ]
     },
     "metadata": {},
     "output_type": "display_data"
    },
    {
     "data": {
      "text/latex": [
       "$\\displaystyle x_{1} + x_{2} - 1$"
      ],
      "text/plain": [
       "x1 + x2 - 1"
      ]
     },
     "metadata": {},
     "output_type": "display_data"
    }
   ],
   "source": [
    "import sympy as sym\n",
    "import numpy as np\n",
    "\n",
    "# переменные\n",
    "x1, x2 = sym.symbols('x1 x2')\n",
    "\n",
    "# целевая функция\n",
    "f = x1**2 + x2**2\n",
    "\n",
    "# ограничения\n",
    "g = x1 + x2 - 1\n",
    "\n",
    "# коэффициенты ограничений (без свободного члена b)\n",
    "A = np.array([[1, 1]])\n",
    "\n",
    "# начальная точка, удовлетворяющая ограничению\n",
    "x0 = np.array([0, 1])\n",
    "\n",
    "# переменные\n",
    "variables = [x1,x2]\n",
    "\n",
    "display(f, g)"
   ]
  },
  {
   "cell_type": "code",
   "execution_count": 107,
   "metadata": {},
   "outputs": [
    {
     "data": {
      "text/plain": [
       "array([[ 0.5, -0.5],\n",
       "       [-0.5,  0.5]])"
      ]
     },
     "execution_count": 107,
     "metadata": {},
     "output_type": "execute_result"
    }
   ],
   "source": [
    "# функция поиска обратной матрицы\n",
    "inv = np.linalg.inv\n",
    "\n",
    "# создаём единичную матрицу размерности n*n, где n - кол-во переменных\n",
    "I = np.eye(len(variables))\n",
    "\n",
    "# по формуле вычисляем матрицу P\n",
    "P = I - A.T @ inv( A @ A.T ) @ A\n",
    "\n",
    "P"
   ]
  },
  {
   "cell_type": "code",
   "execution_count": 108,
   "metadata": {},
   "outputs": [],
   "source": [
    "def get_gradient_at_point(variables: list[sym.Symbol], f: sym.Add, x0: np.ndarray):\n",
    "    # градиент функции по всем переменным\n",
    "    gradients_f = [sym.diff(f, variable) for variable in variables]\n",
    "    \n",
    "    # превращение из символьного представления в функцию\n",
    "    lambd_gradients_f = [\n",
    "        sym.lambdify(variables, gradient_f) for gradient_f in gradients_f]\n",
    "    \n",
    "    # вычисление градиента в точке x\n",
    "    grad_f_x = np.array([f(*x0) for f in lambd_gradients_f])\n",
    "\n",
    "    return np.where(np.abs(grad_f_x) > 0.0001, grad_f_x, 0)"
   ]
  },
  {
   "cell_type": "code",
   "execution_count": 109,
   "metadata": {},
   "outputs": [
    {
     "data": {
      "text/plain": [
       "array([0, 2])"
      ]
     },
     "execution_count": 109,
     "metadata": {},
     "output_type": "execute_result"
    }
   ],
   "source": [
    "# выясняем градиент функции в точке x0\n",
    "grad_f_in_x = get_gradient_at_point(variables, f, x0)\n",
    "grad_f_in_x"
   ]
  },
  {
   "cell_type": "code",
   "execution_count": 110,
   "metadata": {},
   "outputs": [
    {
     "data": {
      "text/plain": [
       "array([ 1., -1.])"
      ]
     },
     "execution_count": 110,
     "metadata": {},
     "output_type": "execute_result"
    }
   ],
   "source": [
    "# по формуле находим направление S\n",
    "S = -P @ grad_f_in_x \n",
    "S"
   ]
  },
  {
   "cell_type": "code",
   "execution_count": 111,
   "metadata": {},
   "outputs": [
    {
     "data": {
      "text/plain": [
       "array([1.0*λ, 1 - 1.0*λ], dtype=object)"
      ]
     },
     "execution_count": 111,
     "metadata": {},
     "output_type": "execute_result"
    }
   ],
   "source": [
    "# переменная одномерной минимизации\n",
    "λ = sym.symbols('λ')\n",
    "\n",
    "# по формуле находим новый вектор, который зависит от одной переменной\n",
    "new_vector = x0 + λ * S\n",
    "new_vector"
   ]
  },
  {
   "cell_type": "code",
   "execution_count": 112,
   "metadata": {},
   "outputs": [
    {
     "data": {
      "text/latex": [
       "$\\displaystyle 1.0 λ^{2} + \\left(1 - 1.0 λ\\right)^{2}$"
      ],
      "text/plain": [
       "1.0*λ**2 + (1 - 1.0*λ)**2"
      ]
     },
     "execution_count": 112,
     "metadata": {},
     "output_type": "execute_result"
    }
   ],
   "source": [
    "# заменяем каждую переменную функции на новую от λ (в данном случае [x1, -λ], [x2, λ+1] )\n",
    "new_f = f.subs( list(zip(variables,new_vector)) )\n",
    "new_f"
   ]
  },
  {
   "cell_type": "code",
   "execution_count": 113,
   "metadata": {},
   "outputs": [],
   "source": [
    "import pandas as pd\n",
    "from typing import Callable\n",
    "\n",
    "def fibonacci(\n",
    "    f: Callable[[float], float],\n",
    "    interval: tuple[float, float],\n",
    "    eps: float,\n",
    "    return_result_and_table: bool = False\n",
    ") -> float:\n",
    "    a, b = interval\n",
    "\n",
    "    table = pd.DataFrame(\n",
    "        columns=['a','b','l','x1','x2','f_x1','f_x2']\n",
    "        )\n",
    "    \n",
    "    F = [1, 1]\n",
    "    while F[-1] < (b - a) / eps:\n",
    "        F.append(F[-1] + F[-2])\n",
    "    \n",
    "    delta = (b - a) / F[-1]\n",
    "    \n",
    "    N = len(F) - 1\n",
    "    \n",
    "    x1 = a + F[N - 2] * delta\n",
    "    x2 = b - F[N - 2] * delta\n",
    "\n",
    "    f_x1, f_x2 = f(x1), f(x2)\n",
    "\n",
    "    table.loc[len(table)] = [a, b, b-a, x1, x2, f_x1, f_x2]\n",
    "\n",
    "    for k in range(1, N - 2):\n",
    "        if f_x1 < f_x2:\n",
    "            b = x2\n",
    "            x2, f_x2 = x1, f_x1\n",
    "            x1 = a + F[N - k - 2] * delta\n",
    "            f_x1 = f(x1)\n",
    "        else:\n",
    "            a = x1\n",
    "            x1, f_x1 = x2, f_x2\n",
    "            x2 = b - F[N - k - 2] * delta\n",
    "            f_x2 = f(x2)\n",
    "        table.loc[len(table)] = [a, b, b-a, x1, x2, f_x1, f_x2]\n",
    "    \n",
    "    table.loc[len(table)] = [a, b, b-a] + [None]*4\n",
    "\n",
    "    if return_result_and_table:\n",
    "        return (a + b) / 2, table\n",
    "    return (a + b) / 2"
   ]
  },
  {
   "cell_type": "code",
   "execution_count": 114,
   "metadata": {},
   "outputs": [
    {
     "data": {
      "text/plain": [
       "0.5009392611145899"
      ]
     },
     "execution_count": 114,
     "metadata": {},
     "output_type": "execute_result"
    }
   ],
   "source": [
    "# решаем задачу одномерной минимизации при помощи метода Фибоначчи\n",
    "min_λ = fibonacci(f=sym.lambdify(λ, new_f), interval=[-5,5], eps=0.01)\n",
    "min_λ"
   ]
  },
  {
   "cell_type": "code",
   "execution_count": 115,
   "metadata": {},
   "outputs": [
    {
     "data": {
      "text/plain": [
       "[0.500939261114590, 0.499060738885410]"
      ]
     },
     "execution_count": 115,
     "metadata": {},
     "output_type": "execute_result"
    }
   ],
   "source": [
    "# заменяем λ на минимальное значение, которое нашли при одномерной минимизации\n",
    "[coordinate.subs(λ, min_λ) for coordinate in new_vector]"
   ]
  },
  {
   "cell_type": "markdown",
   "metadata": {},
   "source": [
    "## Градиент Розена"
   ]
  },
  {
   "cell_type": "code",
   "execution_count": 116,
   "metadata": {},
   "outputs": [],
   "source": [
    "import sympy as sym\n",
    "import numpy as np\n",
    "import pandas as pd\n",
    "from typing import Callable\n",
    "\n",
    "def get_gradient_at_point(variables: list[sym.Symbol], f: sym.Add, x0: np.ndarray):\n",
    "    # градиент функции по всем переменным\n",
    "    gradients_f = [sym.diff(f, variable) for variable in variables]\n",
    "    \n",
    "    # превращение из символьного представления в функцию\n",
    "    lambd_gradients_f = [\n",
    "        sym.lambdify(variables, gradient_f) for gradient_f in gradients_f]\n",
    "    \n",
    "    # вычисление градиента в точке x\n",
    "    grad_f_x = np.array([f(*x0) for f in lambd_gradients_f])\n",
    "\n",
    "    return np.where(np.abs(grad_f_x) > 0.0001, grad_f_x, 0)\n",
    "\n",
    "def fibonacci(\n",
    "    f: Callable[[float], float],\n",
    "    interval: tuple[float, float],\n",
    "    eps: float,\n",
    "    return_result_and_table: bool = False\n",
    ") -> float:\n",
    "    a, b = interval\n",
    "\n",
    "    table = pd.DataFrame(\n",
    "        columns=['a','b','l','x1','x2','f_x1','f_x2']\n",
    "        )\n",
    "    \n",
    "    F = [1, 1]\n",
    "    while F[-1] < (b - a) / eps:\n",
    "        F.append(F[-1] + F[-2])\n",
    "    \n",
    "    delta = (b - a) / F[-1]\n",
    "    \n",
    "    N = len(F) - 1\n",
    "    \n",
    "    x1 = a + F[N - 2] * delta\n",
    "    x2 = b - F[N - 2] * delta\n",
    "\n",
    "    f_x1, f_x2 = f(x1), f(x2)\n",
    "\n",
    "    table.loc[len(table)] = [a, b, b-a, x1, x2, f_x1, f_x2]\n",
    "\n",
    "    for k in range(1, N - 2):\n",
    "        if f_x1 < f_x2:\n",
    "            b = x2\n",
    "            x2, f_x2 = x1, f_x1\n",
    "            x1 = a + F[N - k - 2] * delta\n",
    "            f_x1 = f(x1)\n",
    "        else:\n",
    "            a = x1\n",
    "            x1, f_x1 = x2, f_x2\n",
    "            x2 = b - F[N - k - 2] * delta\n",
    "            f_x2 = f(x2)\n",
    "        table.loc[len(table)] = [a, b, b-a, x1, x2, f_x1, f_x2]\n",
    "    \n",
    "    table.loc[len(table)] = [a, b, b-a] + [None]*4\n",
    "\n",
    "    if return_result_and_table:\n",
    "        return (a + b) / 2, table\n",
    "    return (a + b) / 2\n",
    "\n",
    "def rosen_gradient(\n",
    "    variables: list[sym.Symbol],\n",
    "    f: sym.Add,\n",
    "    A: np.ndarray,\n",
    "    x0: np.ndarray,\n",
    "    interval_for_one_dimensional_minimiz: list[float],\n",
    "    eps: float\n",
    "):\n",
    "    # функция поиска обратной матрицы\n",
    "    inv = np.linalg.inv\n",
    "\n",
    "    # создаём единичную матрицу размерности n*n, где n - кол-во переменных\n",
    "    I = np.eye(len(variables))\n",
    "\n",
    "    # по формуле вычисляем матрицу P\n",
    "    P = I - A.T @ inv( A @ A.T ) @ A\n",
    "\n",
    "    # выясняем градиент функции в точке x0\n",
    "    grad_f_in_x = get_gradient_at_point(variables, f, x0)\n",
    "\n",
    "    # по формуле находим направление S\n",
    "    S = -P @ grad_f_in_x\n",
    "\n",
    "    # переменная одномерной минимизации\n",
    "    λ = sym.symbols('λ')\n",
    "\n",
    "    # по формуле находим новый вектор, который зависит от одной переменной\n",
    "    new_vector = x0 + λ * S\n",
    "\n",
    "    # заменяем каждую переменную функции на новую от λ\n",
    "    new_f = f.subs( list(zip(variables, new_vector)) )\n",
    "\n",
    "    # решаем задачу одномерной минимизации при помощи метода Фибоначчи\n",
    "    min_λ = fibonacci(f=sym.lambdify(λ, new_f), interval=interval_for_one_dimensional_minimiz, eps=eps)\n",
    "\n",
    "    # заменяем λ на минимальное значение, которое нашли при одномерной минимизации\n",
    "    return [coordinate.subs(λ, min_λ) for coordinate in new_vector]"
   ]
  },
  {
   "cell_type": "markdown",
   "metadata": {},
   "source": [
    "## Проверка"
   ]
  },
  {
   "cell_type": "code",
   "execution_count": 117,
   "metadata": {},
   "outputs": [
    {
     "data": {
      "text/plain": [
       "[0.502495027392954, 0.497504972607046]"
      ]
     },
     "execution_count": 117,
     "metadata": {},
     "output_type": "execute_result"
    }
   ],
   "source": [
    "# переменные\n",
    "x1, x2 = sym.symbols('x1 x2')\n",
    "\n",
    "# целевая функция\n",
    "f = x1**2 + x2**2\n",
    "\n",
    "# коэффициенты ограничений (без свободного члена b)\n",
    "A = np.array([[1, 1]])\n",
    "\n",
    "# начальная точка, удовлетворяющая ограничению\n",
    "x0 = np.array([0, 1])\n",
    "\n",
    "# переменные\n",
    "variables = [x1,x2]\n",
    "\n",
    "rosen_gradient(variables, f, A, x0, interval_for_one_dimensional_minimiz=[-100, 100], eps=0.01)"
   ]
  }
 ],
 "metadata": {
  "kernelspec": {
   "display_name": "Python 3",
   "language": "python",
   "name": "python3"
  },
  "language_info": {
   "codemirror_mode": {
    "name": "ipython",
    "version": 3
   },
   "file_extension": ".py",
   "mimetype": "text/x-python",
   "name": "python",
   "nbconvert_exporter": "python",
   "pygments_lexer": "ipython3",
   "version": "3.11.7"
  }
 },
 "nbformat": 4,
 "nbformat_minor": 2
}
