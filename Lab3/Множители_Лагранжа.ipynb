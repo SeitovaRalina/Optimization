{
 "cells": [
  {
   "cell_type": "markdown",
   "metadata": {},
   "source": [
    "# Объяснение метода"
   ]
  },
  {
   "cell_type": "code",
   "execution_count": 140,
   "metadata": {},
   "outputs": [
    {
     "data": {
      "text/latex": [
       "$\\displaystyle x_{1}^{2} + x_{2}^{2}$"
      ],
      "text/plain": [
       "x1**2 + x2**2"
      ]
     },
     "metadata": {},
     "output_type": "display_data"
    },
    {
     "data": {
      "text/latex": [
       "$\\displaystyle x_{1} + x_{2} - 1$"
      ],
      "text/plain": [
       "x1 + x2 - 1"
      ]
     },
     "metadata": {},
     "output_type": "display_data"
    }
   ],
   "source": [
    "import sympy as sym\n",
    "\n",
    "x1, x2 = sym.symbols('x1 x2')\n",
    "# Дано\n",
    "f = x1**2 + x2**2\n",
    "\n",
    "phi = x1 + x2 - 1\n",
    "\n",
    "display(f, phi)"
   ]
  },
  {
   "cell_type": "code",
   "execution_count": 141,
   "metadata": {},
   "outputs": [
    {
     "data": {
      "text/latex": [
       "$\\displaystyle x_{1}^{2} + x_{2}^{2} + λ \\left(x_{1} + x_{2} - 1\\right)$"
      ],
      "text/plain": [
       "x1**2 + x2**2 + λ*(x1 + x2 - 1)"
      ]
     },
     "metadata": {},
     "output_type": "display_data"
    }
   ],
   "source": [
    "# начало метода\n",
    "λ = sym.symbols('λ')\n",
    "\n",
    "# составляем функцию лагранжа L = f + λ * phi\n",
    "L = f + λ * phi\n",
    "\n",
    "display(L)"
   ]
  },
  {
   "cell_type": "code",
   "execution_count": 142,
   "metadata": {},
   "outputs": [
    {
     "data": {
      "text/latex": [
       "$\\displaystyle 2 x_{1} + λ$"
      ],
      "text/plain": [
       "2*x1 + λ"
      ]
     },
     "metadata": {},
     "output_type": "display_data"
    },
    {
     "data": {
      "text/latex": [
       "$\\displaystyle 2 x_{2} + λ$"
      ],
      "text/plain": [
       "2*x2 + λ"
      ]
     },
     "metadata": {},
     "output_type": "display_data"
    }
   ],
   "source": [
    "# вычисляем частные производные\n",
    "dL_dx = [sym.diff(L,x) for x in [x1,x2]]\n",
    "\n",
    "display(*dL_dx)"
   ]
  },
  {
   "cell_type": "code",
   "execution_count": 158,
   "metadata": {},
   "outputs": [
    {
     "data": {
      "text/plain": [
       "[1/2, 1/2]"
      ]
     },
     "execution_count": 158,
     "metadata": {},
     "output_type": "execute_result"
    }
   ],
   "source": [
    "from sympy.solvers.solveset import linsolve\n",
    "\n",
    "# решаем слау и берём всё решение кроме λ\n",
    "func_min = list(*linsolve(dL_dx + [phi], [x1,x2]+[λ]))[:-1]\n",
    "\n",
    "func_min"
   ]
  },
  {
   "cell_type": "code",
   "execution_count": 144,
   "metadata": {},
   "outputs": [
    {
     "data": {
      "text/plain": [
       "[(x1, x1), (x1, x2), (x2, x1), (x2, x2)]"
      ]
     },
     "metadata": {},
     "output_type": "display_data"
    },
    {
     "data": {
      "text/plain": [
       "array([[2., 0.],\n",
       "       [0., 2.]])"
      ]
     },
     "metadata": {},
     "output_type": "display_data"
    }
   ],
   "source": [
    "import numpy as np\n",
    "from itertools import product\n",
    "\n",
    "# проверка на экстремум\n",
    "# чтобы x0 был минимум, матрица, составленная из смешанных\n",
    "# частных производных максимум 2ого порядка должна быть положительно-определённой\n",
    "\n",
    "# по критерию сильвестра матрица положительно определённая <=>\n",
    "# когда главные миноры > 0 \n",
    "\n",
    "# составляем всевозможные пары переменных\n",
    "pairs = [var for var in product([x1,x2],repeat=2)]\n",
    "\n",
    "# составляем матрицу из смешанных частых производных\n",
    "gesse = np.array(\n",
    "    [f.diff(*pair) for pair in pairs], dtype='float64'\n",
    ").reshape((2,2))\n",
    "\n",
    "display(pairs, gesse)"
   ]
  },
  {
   "cell_type": "code",
   "execution_count": 145,
   "metadata": {},
   "outputs": [
    {
     "data": {
      "text/plain": [
       "[array([[2.]]),\n",
       " array([[2., 0.],\n",
       "        [0., 2.]])]"
      ]
     },
     "execution_count": 145,
     "metadata": {},
     "output_type": "execute_result"
    }
   ],
   "source": [
    "# находим диагональные миноры\n",
    "diag_minors = [gesse[:j,:j] for j in range(1, len(gesse)+1)]\n",
    "diag_minors"
   ]
  },
  {
   "cell_type": "code",
   "execution_count": 146,
   "metadata": {},
   "outputs": [
    {
     "data": {
      "text/plain": [
       "([True, True], True)"
      ]
     },
     "execution_count": 146,
     "metadata": {},
     "output_type": "execute_result"
    }
   ],
   "source": [
    "# проверяем, являются ли миноры положительными\n",
    "[np.linalg.det(minor) > 0 for minor in diag_minors], all([np.linalg.det(minor) > 0 for minor in diag_minors])"
   ]
  },
  {
   "cell_type": "code",
   "execution_count": 150,
   "metadata": {},
   "outputs": [
    {
     "name": "stdout",
     "output_type": "stream",
     "text": [
      "[1/2, 1/2]\n"
     ]
    }
   ],
   "source": [
    "if all([np.linalg.det(minor) > 0 for minor in diag_minors]):\n",
    "    print(func_min)"
   ]
  },
  {
   "cell_type": "markdown",
   "metadata": {},
   "source": [
    "# Метод множителей Лагранжа"
   ]
  },
  {
   "cell_type": "code",
   "execution_count": 155,
   "metadata": {},
   "outputs": [],
   "source": [
    "import sympy as sym\n",
    "from sympy.solvers.solveset import linsolve\n",
    "\n",
    "def lagrange_multiplier_method(\n",
    "    variables: list[sym.Symbol],\n",
    "    f: sym.Add,\n",
    "    phi: sym.Add\n",
    "):\n",
    "    # начало метода\n",
    "    N = len(variables)\n",
    "\n",
    "    λ = sym.symbols('λ')\n",
    "\n",
    "    # составляем функцию лагранжа L = f + λ * phi\n",
    "    L = f + λ * phi\n",
    "\n",
    "    # вычисляем частные производные\n",
    "    dL_dx = [sym.diff(L,x) for x in variables]\n",
    "\n",
    "    # решаем слау и берём всё решение кроме λ\n",
    "    func_min = list(*linsolve(dL_dx + [phi], variables + [λ]))[:-1]\n",
    "\n",
    "    # проверка на существование решения\n",
    "    if not func_min:\n",
    "        return 'Решений нет'\n",
    "\n",
    "    # составляем всевозможные пары переменных\n",
    "    pairs = [var for var in product(variables, repeat=2)]\n",
    "\n",
    "    # составляем матрицу из смешанных частых производных\n",
    "    gesse = np.array(\n",
    "        [f.diff(*pair) for pair in pairs], dtype='float64'\n",
    "    ).reshape((N,N))\n",
    "\n",
    "    # находим диагональные миноры\n",
    "    diag_minors = [gesse[:j, :j] for j in range(1, len(gesse)+1)]\n",
    "\n",
    "    # проверяем, являются ли миноры положительными\n",
    "    if all([np.linalg.det(minor) > 0 for minor in diag_minors]):\n",
    "        return func_min\n",
    "\n",
    "    return 'не выполнено достаточное условие минимума функции'"
   ]
  },
  {
   "cell_type": "code",
   "execution_count": 156,
   "metadata": {},
   "outputs": [
    {
     "data": {
      "text/plain": [
       "[1/2, 1/2]"
      ]
     },
     "execution_count": 156,
     "metadata": {},
     "output_type": "execute_result"
    }
   ],
   "source": [
    "# проверка метода\n",
    "x1, x2 = sym.symbols('x1 x2')\n",
    "\n",
    "f = x1**2 + x2**2\n",
    "\n",
    "phi = x1 + x2 - 1\n",
    "\n",
    "lagrange_multiplier_method([x1,x2],f,phi)"
   ]
  },
  {
   "cell_type": "code",
   "execution_count": null,
   "metadata": {},
   "outputs": [
    {
     "data": {
      "text/plain": [
       "'Решений нет'"
      ]
     },
     "execution_count": 134,
     "metadata": {},
     "output_type": "execute_result"
    }
   ],
   "source": [
    "lagrange_multiplier_method([x1,x2], x1**2 - x2**2, phi)"
   ]
  }
 ],
 "metadata": {
  "kernelspec": {
   "display_name": "Python 3",
   "language": "python",
   "name": "python3"
  },
  "language_info": {
   "codemirror_mode": {
    "name": "ipython",
    "version": 3
   },
   "file_extension": ".py",
   "mimetype": "text/x-python",
   "name": "python",
   "nbconvert_exporter": "python",
   "pygments_lexer": "ipython3",
   "version": "3.11.7"
  }
 },
 "nbformat": 4,
 "nbformat_minor": 2
}
