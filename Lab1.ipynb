{
 "cells": [
  {
   "cell_type": "markdown",
   "metadata": {},
   "source": [
    "# Лабораторная работа № 1. Методы одномерной оптимизации"
   ]
  },
  {
   "cell_type": "markdown",
   "metadata": {},
   "source": [
    "**ЗАДАЧА:** Найти приближенное решение задачи минимизации $f(x)$ на интервале $[a,b]$, отличающееся от точного решения $x^*$ не более чем на $\\varepsilon$ :\n",
    "\n",
    "$$|x-x^*|\\leq\\varepsilon$$"
   ]
  },
  {
   "cell_type": "code",
   "execution_count": 45,
   "metadata": {},
   "outputs": [],
   "source": [
    "f = lambda x: x**2 + 2*x - 4\n",
    "a = -2\n",
    "b = 1\n",
    "eps = 0.01"
   ]
  },
  {
   "cell_type": "markdown",
   "metadata": {},
   "source": [
    "## Метод Дихотомии"
   ]
  },
  {
   "cell_type": "markdown",
   "metadata": {},
   "source": [
    "**Сущность:** Интервал разбивается на две равные части, затем выбирается половина, в которой находится искомая точка, и процесс повторяется, пока не будет достигнута необходимая точность.\n",
    "\n",
    "**Сложность:** О(log n), где n - число итераций."
   ]
  },
  {
   "cell_type": "code",
   "execution_count": 49,
   "metadata": {},
   "outputs": [
    {
     "name": "stdout",
     "output_type": "stream",
     "text": [
      "          a         b       len        x1        x2      f_x1      f_x2\n",
      "0 -2.000000  1.000000  3.000000 -0.505000 -0.495000 -4.754975 -4.744975\n",
      "1 -2.000000 -0.495000  1.505000 -1.252500 -1.242500 -4.936244 -4.941194\n",
      "2 -1.252500 -0.495000  0.757500 -0.878750 -0.868750 -4.985298 -4.982773\n",
      "3 -1.252500 -0.868750  0.383750 -1.065625 -1.055625 -4.995693 -4.996906\n",
      "4 -1.065625 -0.868750  0.196875 -0.972187 -0.962187 -4.999226 -4.998570\n",
      "5 -1.065625 -0.962187  0.103437 -1.018906 -1.008906 -4.999643 -4.999921\n",
      "6 -1.018906 -0.962187  0.056719 -0.995547 -0.985547 -4.999980 -4.999791\n",
      "7 -1.018906 -0.985547  0.033359 -1.007227 -0.997227 -4.999948 -4.999992\n",
      "8 -1.007227 -0.985547  0.021680 -1.001387 -0.991387 -4.999998 -4.999926\n",
      "9 -1.007227 -0.991387  0.015840       NaN       NaN       NaN       NaN\n",
      "-0.9993066406249997\n",
      "\n",
      "Минимум функции f на интервале [a,b]: (-0.999, -5.00)\n"
     ]
    }
   ],
   "source": [
    "import pandas as pd\n",
    "from typing import Callable\n",
    "\n",
    "\n",
    "def dihotomia(\n",
    "    f: Callable[[float], float],\n",
    "    interval: tuple[float,float],\n",
    "    eps: float   \n",
    ") -> float:\n",
    "    table = pd.DataFrame(columns=['a','b','len','x1','x2','f_x1','f_x2'])\n",
    "    a, b = interval\n",
    "\n",
    "    while b - a > 2 * eps:\n",
    "        # расчет середины отрезка [a,b]\n",
    "        x = (a + b)/2\n",
    "        # расчет значения точек x1, x2 эпсилон окрестности точки х\n",
    "        x1, x2 = x - eps/2, x + eps/2\n",
    "        # заполнение таблицы\n",
    "        table.loc[len(table)] = [a, b, b-a, x1, x2, f(x1), f(x2)]\n",
    "        # пересчет концов отрезка\n",
    "        a, b = (x1, b) if f(x1) > f(x2) else (a, x2)\n",
    "\n",
    "    table.loc[len(table)] = [a, b, b-a] + [None]*4\n",
    "    \n",
    "    return table, (a + b) / 2\n",
    "\n",
    "\n",
    "table, answer_dih = dihotomia(f, (a, b), eps)\n",
    "\n",
    "print(table)\n",
    "print(answer_dih)\n",
    "print(f'\\nМинимум функции f на интервале [a,b]: ({answer_dih:.3f}, {f(answer_dih):.2f})')"
   ]
  },
  {
   "cell_type": "code",
   "execution_count": 50,
   "metadata": {},
   "outputs": [
    {
     "data": {
      "image/png": "[encoded data removed]",
      "text/plain": [
       "<Figure size 640x480 with 1 Axes>"
      ]
     },
     "metadata": {},
     "output_type": "display_data"
    }
   ],
   "source": [
    "import numpy as np\n",
    "from matplotlib import pyplot as plt\n",
    "\n",
    "x = np.linspace(a, b, 100)\n",
    "\n",
    "plt.plot(x, f(x), 'blue', answer_dih, f(answer_dih), 'ro')\n",
    "\n",
    "plt.legend(['f = x^2 + 2x - 4', 'найденный минимум'])\n",
    "plt.grid(True)\n",
    "plt.show()"
   ]
  },
  {
   "cell_type": "markdown",
   "metadata": {},
   "source": [
    "## Метод Фибоначчи"
   ]
  },
  {
   "cell_type": "markdown",
   "metadata": {},
   "source": [
    "**Сущность:** В этом методе интервал разбивается с использованием последовательности чисел Фибоначчи, а затем выбирается новый интервал для следующей итерации.\n",
    "\n",
    "**Сложность:** O(log n), где n - число итераций. Метод Фибоначчи может требовать меньше итераций, чем дихотомическое деление."
   ]
  },
  {
   "cell_type": "code",
   "execution_count": 51,
   "metadata": {},
   "outputs": [
    {
     "name": "stdout",
     "output_type": "stream",
     "text": [
      "           a         b         l        x1        x2      f_x1      f_x2\n",
      "0  -2.000000  1.000000  3.000000 -0.854111 -0.145889 -4.978717 -4.270494\n",
      "1  -2.000000 -0.145889  1.854111 -1.291777 -0.854111 -4.914866 -4.978717\n",
      "2  -1.291777 -0.145889  1.145889 -0.854111 -0.583554 -4.978717 -4.826573\n",
      "3  -1.291777 -0.583554  0.708223 -1.021220 -0.854111 -4.999550 -4.978717\n",
      "4  -1.291777 -0.854111  0.437666 -1.124668 -1.021220 -4.984458 -4.999550\n",
      "5  -1.124668 -0.854111  0.270557 -1.021220 -0.957560 -4.999550 -4.998199\n",
      "6  -1.124668 -0.957560  0.167109 -1.061008 -1.021220 -4.996278 -4.999550\n",
      "7  -1.061008 -0.957560  0.103448 -1.021220 -0.997347 -4.999550 -4.999993\n",
      "8  -1.021220 -0.957560  0.063660 -0.997347 -0.981432 -4.999993 -4.999655\n",
      "9  -1.021220 -0.981432  0.039788 -1.005305 -0.997347 -4.999972 -4.999993\n",
      "10 -1.005305 -0.981432  0.023873 -0.997347 -0.989390 -4.999993 -4.999887\n",
      "11 -1.005305 -0.989390  0.015915       NaN       NaN       NaN       NaN\n",
      "-0.9973474801061006\n",
      "\n",
      "Минимум функции f на интервале [a,b]: (-0.997, -5.00)\n"
     ]
    }
   ],
   "source": [
    "def fibonacci(\n",
    "    f: Callable[[float], float],\n",
    "    interval: tuple[float, float],\n",
    "    eps: float\n",
    ") -> float:\n",
    "    table = pd.DataFrame(columns=['a','b','l','x1','x2','f_x1','f_x2'])\n",
    "    a, b = interval\n",
    "\n",
    "    # формирование последовательности Фибоначчи\n",
    "    F = [1, 1]\n",
    "    while F[-1] < (b - a) / eps:\n",
    "        F.append(F[-1] + F[-2])\n",
    "    \n",
    "    delta = (b - a) / F[-1]\n",
    "    \n",
    "    N = len(F) - 1\n",
    "    \n",
    "    # начальные вычисления внутренних точек x1, x2\n",
    "    x1 = a + F[N - 2] * delta\n",
    "    x2 = b - F[N - 2] * delta\n",
    "    # два вычисления функции на первой итерации, далее только по одному\n",
    "    f_x1, f_x2 = f(x1), f(x2)\n",
    "\n",
    "    for k in range(1, N - 1):\n",
    "        table.loc[len(table)] = [a, b, b-a, x1, x2, f_x1, f_x2]\n",
    "        if f_x1 < f_x2:\n",
    "            # x1 - внутренняя точка интервала [a, x2]\n",
    "            b = x2\n",
    "            x2, f_x2 = x1, f_x1\n",
    "            x1 = a + F[N - k - 2] * delta\n",
    "            f_x1 = f(x1)\n",
    "        else:\n",
    "            # x2 - внутренняя точка интервала [x1, b]\n",
    "            a = x1\n",
    "            x1, f_x1 = x2, f_x2\n",
    "            x2 = b - F[N - k - 2] * delta\n",
    "            f_x2 = f(x2)\n",
    "    \n",
    "    table.loc[len(table)] = [a, b, b-a] + [None]*4\n",
    "\n",
    "    return table, (a + b) / 2\n",
    "\n",
    "table, answer_fib = fibonacci(f, (a, b), eps)\n",
    "\n",
    "print(table)\n",
    "print(answer_fib)\n",
    "print(f'\\nМинимум функции f на интервале [a,b]: ({answer_fib:.3f}, {f(answer_fib):.2f})')"
   ]
  },
  {
   "cell_type": "code",
   "execution_count": 52,
   "metadata": {},
   "outputs": [],
   "source": [
    "fff = lambda x: 1/4*x**4 - 2/3*x**3 + 1/2*x**2 - 2*x + 6\n",
    "aaa = 1.5\n",
    "bbb = 4\n",
    "eeepppsss = 0.1"
   ]
  },
  {
   "cell_type": "markdown",
   "metadata": {},
   "source": [
    "## Метод золотого сечения"
   ]
  },
  {
   "cell_type": "markdown",
   "metadata": {},
   "source": [
    "**Сущность:** Этот метод также используется для поиска оптимального значения функции на отрезке. Особенностью метода является выбор точек разбиения на основе \"золотого сечения\" интервала.\n",
    "\n",
    "**Сложность:** O(log n), где n - число итераций. Метод \"золотого сечения\" обычно требует меньшее количество итераций по сравнению с дихотомическим делением."
   ]
  },
  {
   "cell_type": "code",
   "execution_count": 68,
   "metadata": {},
   "outputs": [
    {
     "name": "stdout",
     "output_type": "stream",
     "text": [
      "           a         b         l        x1        x2      f_x1      f_x2\n",
      "0  -2.000000  1.000000  3.000000 -0.145898 -0.854102 -4.270510 -4.978714\n",
      "1  -2.000000 -0.145898  1.854102 -0.854102 -1.291796 -4.978714 -4.914855\n",
      "2  -1.291796 -0.145898  1.145898 -0.583592 -0.854102 -4.826604 -4.978714\n",
      "3  -1.291796 -0.583592  0.708204 -0.854102 -1.021286 -4.978714 -4.999547\n",
      "4  -1.291796 -0.854102  0.437694 -1.021286 -1.124612 -4.999547 -4.984472\n",
      "5  -1.124612 -0.854102  0.270510 -0.957428 -1.021286 -4.998188 -4.999547\n",
      "6  -1.124612 -0.957428  0.167184 -1.021286 -1.060753 -4.999547 -4.996309\n",
      "7  -1.060753 -0.957428  0.103326 -0.996894 -1.021286 -4.999990 -4.999547\n",
      "8  -1.021286 -0.957428  0.063859 -0.981819 -0.996894 -4.999669 -4.999990\n",
      "9  -1.021286 -0.981819  0.039467 -0.996894 -1.006211 -4.999990 -4.999961\n",
      "10 -1.006211 -0.981819  0.024392 -0.991136 -0.996894 -4.999921 -4.999990\n",
      "11 -1.006211 -0.991136  0.015075       NaN       NaN       NaN       NaN\n",
      "-0.9986737419193213\n",
      "\n",
      "Минимум функции f на интервале [a,b]: (-0.999, -5.00)\n"
     ]
    }
   ],
   "source": [
    "from math import sqrt\n",
    "\n",
    "def golden_ratio(\n",
    "    f: Callable[[float], float],\n",
    "    interval: tuple[float, float],\n",
    "    eps: float\n",
    ") -> float:\n",
    "    table = pd.DataFrame(columns=['a','b','l','x1','x2','f_x1','f_x2'])\n",
    "    \n",
    "    a, b = interval\n",
    "    \n",
    "    alpha = 2/(1 + sqrt(5)) # (золотое сечение)^-1\n",
    "\n",
    "    x1 = a + alpha * (b - a)\n",
    "    x2 = b - alpha * (b - a)\n",
    "\n",
    "    f_x1, f_x2 = f(x1), f(x2)\n",
    "\n",
    "    while b - a > 2*eps:\n",
    "        table.loc[len(table)] = [a, b, b-a, x1, x2, f_x1, f_x2] \n",
    "        \n",
    "        if f_x1 > f_x2:\n",
    "            b = x1\n",
    "            x1, f_x1 = x2, f_x2\n",
    "            x2 = b - alpha * (b - a)\n",
    "            f_x2 = f(x2)\n",
    "        else:\n",
    "            a = x2\n",
    "            x2, f_x2 = x1, f_x1\n",
    "            x1 = a + alpha * (b - a)\n",
    "            f_x1 = f(x1)\n",
    "    \n",
    "    table.loc[len(table)] = [a, b, b-a] + [None]*4\n",
    "\n",
    "    return table, (a + b)/2\n",
    "\n",
    "table, answer_gol = golden_ratio(f, (a, b), eps)\n",
    "\n",
    "print(table)\n",
    "print(answer_gol)\n",
    "print(f'\\nМинимум функции f на интервале [a,b]: ({answer_gol:.3f}, {f(answer_gol):.2f})')"
   ]
  },
  {
   "cell_type": "markdown",
   "metadata": {},
   "source": [
    "## ИТОГИ"
   ]
  },
  {
   "cell_type": "code",
   "execution_count": 78,
   "metadata": {},
   "outputs": [
    {
     "name": "stdout",
     "output_type": "stream",
     "text": [
      "Optimization terminated successfully.\n",
      "         Current function value: -5.000000\n",
      "         Iterations: 25\n",
      "         Function evaluations: 50\n"
     ]
    }
   ],
   "source": [
    "from scipy.optimize import fmin\n",
    "\n",
    "real = fmin(f, 0)"
   ]
  },
  {
   "cell_type": "code",
   "execution_count": 82,
   "metadata": {},
   "outputs": [
    {
     "data": {
      "text/html": [
       "<div>\n",
       "<style scoped>\n",
       "    .dataframe tbody tr th:only-of-type {\n",
       "        vertical-align: middle;\n",
       "    }\n",
       "\n",
       "    .dataframe tbody tr th {\n",
       "        vertical-align: top;\n",
       "    }\n",
       "\n",
       "    .dataframe thead th {\n",
       "        text-align: right;\n",
       "    }\n",
       "</style>\n",
       "<table border=\"1\" class=\"dataframe\">\n",
       "  <thead>\n",
       "    <tr style=\"text-align: right;\">\n",
       "      <th></th>\n",
       "      <th>x</th>\n",
       "    </tr>\n",
       "  </thead>\n",
       "  <tbody>\n",
       "    <tr>\n",
       "      <th>Метод Дихотомии</th>\n",
       "      <td>-0.999307</td>\n",
       "    </tr>\n",
       "    <tr>\n",
       "      <th>Метод Фибоначчи</th>\n",
       "      <td>-0.997347</td>\n",
       "    </tr>\n",
       "    <tr>\n",
       "      <th>Метод золотого сечения</th>\n",
       "      <td>-0.998674</td>\n",
       "    </tr>\n",
       "    <tr>\n",
       "      <th>Реальное значение</th>\n",
       "      <td>-1.000000</td>\n",
       "    </tr>\n",
       "  </tbody>\n",
       "</table>\n",
       "</div>"
      ],
      "text/plain": [
       "                               x\n",
       "Метод Дихотомии        -0.999307\n",
       "Метод Фибоначчи        -0.997347\n",
       "Метод золотого сечения -0.998674\n",
       "Реальное значение      -1.000000"
      ]
     },
     "execution_count": 82,
     "metadata": {},
     "output_type": "execute_result"
    }
   ],
   "source": [
    "results = pd.DataFrame({'x': [answer_dih, answer_fib, answer_gol, real[0]]},\n",
    "                       index=['Метод Дихотомии', 'Метод Фибоначчи', 'Метод золотого сечения', 'Реальное значение'])\n",
    "results"
   ]
  },
  {
   "cell_type": "markdown",
   "metadata": {},
   "source": [
    "**Сравнительные характеристики:**\n",
    "\n",
    "- Все три метода используются для поиска оптимального значения функции на заданном интервале.\n",
    "- Метод Фибоначчи и метод \"золотого сечения\" могут потребовать меньшее количество итераций по сравнению с дихотомическим делением.\n",
    "- Сложность всех трех методов составляет O(log n), где n - число итераций.\n",
    "- Выбор конкретного метода зависит от конкретной задачи, особенностей функции и необходимой точности результата."
   ]
  }
 ],
 "metadata": {
  "kernelspec": {
   "display_name": "Python 3",
   "language": "python",
   "name": "python3"
  },
  "language_info": {
   "codemirror_mode": {
    "name": "ipython",
    "version": 3
   },
   "file_extension": ".py",
   "mimetype": "text/x-python",
   "name": "python",
   "nbconvert_exporter": "python",
   "pygments_lexer": "ipython3",
   "version": "3.11.5"
  }
 },
 "nbformat": 4,
 "nbformat_minor": 2
}
