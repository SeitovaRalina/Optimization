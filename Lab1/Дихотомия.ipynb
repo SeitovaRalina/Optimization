{
 "cells": [
  {
   "cell_type": "markdown",
   "metadata": {},
   "source": [
    "# Метод Дихотомии"
   ]
  },
  {
   "cell_type": "code",
   "execution_count": 1,
   "metadata": {},
   "outputs": [
    {
     "name": "stdout",
     "output_type": "stream",
     "text": [
      "          a         b         l        x1        x2      f_x1      f_x2\n",
      "0 -2.000000  1.000000  3.000000 -0.505000 -0.495000 -4.754975 -4.744975\n",
      "1 -2.000000 -0.495000  1.505000 -1.252500 -1.242500 -4.936244 -4.941194\n",
      "2 -1.252500 -0.495000  0.757500 -0.878750 -0.868750 -4.985298 -4.982773\n",
      "3 -1.252500 -0.868750  0.383750 -1.065625 -1.055625 -4.995693 -4.996906\n",
      "4 -1.065625 -0.868750  0.196875 -0.972187 -0.962187 -4.999226 -4.998570\n",
      "5 -1.065625 -0.962187  0.103437 -1.018906 -1.008906 -4.999643 -4.999921\n",
      "6 -1.018906 -0.962187  0.056719 -0.995547 -0.985547 -4.999980 -4.999791\n",
      "7 -1.018906 -0.985547  0.033359 -1.007227 -0.997227 -4.999948 -4.999992\n",
      "8 -1.007227 -0.985547  0.021680 -1.001387 -0.991387 -4.999998 -4.999926\n",
      "9 -1.007227 -0.991387  0.015840       NaN       NaN       NaN       NaN\n",
      "-0.9993066406249997\n"
     ]
    }
   ],
   "source": [
    "import pandas as pd\n",
    "from typing import Callable\n",
    "\n",
    "def dihotomia(\n",
    "    f: Callable[[float], float],\n",
    "    interval: tuple[float,float],\n",
    "    eps: float   \n",
    ") -> float:\n",
    "    table = pd.DataFrame(columns=['a','b','l','x1','x2','f_x1','f_x2'])\n",
    "\n",
    "    a, b = interval\n",
    "    while b - a > 2 * eps:\n",
    "        x1 = (a + b)/2 - eps/2\n",
    "        x2 = (a + b)/2 + eps/2\n",
    "\n",
    "        f_x1, f_x2 = f(x1), f(x2)\n",
    "\n",
    "        table.loc[len(table)] = [a, b, b-a, x1, x2, f_x1, f_x2]\n",
    "\n",
    "        a, b = (x1, b) if f_x1 > f_x2 else (a, x2)\n",
    "\n",
    "    table.loc[len(table)] = [a, b, b-a] + [None]*4\n",
    "    \n",
    "    return table, (a + b) / 2\n",
    "\n",
    "### пример ###\n",
    "f = lambda x: x**2 + 2*x - 4\n",
    "table, answer = dihotomia(f, (-2, 1), 0.01)\n",
    "\n",
    "print(table)\n",
    "print(answer)"
   ]
  }
 ],
 "metadata": {
  "kernelspec": {
   "display_name": "Python 3",
   "language": "python",
   "name": "python3"
  },
  "language_info": {
   "codemirror_mode": {
    "name": "ipython",
    "version": 3
   },
   "file_extension": ".py",
   "mimetype": "text/x-python",
   "name": "python",
   "nbconvert_exporter": "python",
   "pygments_lexer": "ipython3",
   "version": "3.11.7"
  }
 },
 "nbformat": 4,
 "nbformat_minor": 2
}
