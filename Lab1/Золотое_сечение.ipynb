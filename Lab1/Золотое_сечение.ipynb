{
 "cells": [
  {
   "cell_type": "markdown",
   "metadata": {},
   "source": [
    "# Метод Золотого сечения"
   ]
  },
  {
   "cell_type": "code",
   "execution_count": 1,
   "metadata": {},
   "outputs": [
    {
     "name": "stdout",
     "output_type": "stream",
     "text": [
      "          a         b         l        x1        x2      f_x1      f_x2\n",
      "0 -2.000000  1.000000  3.000000 -0.854102 -0.145898 -4.978714 -4.270510\n",
      "1 -2.000000 -0.145898  1.854102 -1.291796 -0.854102 -4.914855 -4.978714\n",
      "2 -1.291796 -0.145898  1.145898 -0.854102 -0.583592 -4.978714 -4.826604\n",
      "3 -1.291796 -0.583592  0.708204 -1.021286 -0.854102 -4.999547 -4.978714\n",
      "4 -1.291796 -0.854102  0.437694 -1.124612 -1.021286 -4.984472 -4.999547\n",
      "5 -1.124612 -0.854102  0.270510 -1.021286 -0.957428 -4.999547 -4.998188\n",
      "6 -1.124612 -0.957428  0.167184 -1.060753 -1.021286 -4.996309 -4.999547\n",
      "7 -1.124612 -0.957428  0.167184       NaN       NaN       NaN       NaN\n",
      "-1.0410196624968455\n"
     ]
    }
   ],
   "source": [
    "from math import sqrt\n",
    "from typing import Callable\n",
    "import pandas as pd\n",
    "\n",
    "def golden_ratio(\n",
    "    f: Callable[[float], float],\n",
    "    interval: tuple[float, float],\n",
    "    eps: float\n",
    ") -> float:\n",
    "\n",
    "    table = pd.DataFrame(\n",
    "        columns=['a','b','l','x1','x2','f_x1','f_x2']\n",
    "        )\n",
    "    \n",
    "    a, b = interval\n",
    "    \n",
    "    alfa = (3 - sqrt(5)) / 2\n",
    "\n",
    "    x1 = a + alfa * (b - a)\n",
    "    x2 = b - alfa * (b - a)\n",
    "\n",
    "    f_x1, f_x2 = f(x1), f(x2)\n",
    "    \n",
    "    table.loc[len(table)] = [a, b, b-a, x1, x2, f_x1, f_x2]\n",
    "\n",
    "    while b - a > 2 * eps:\n",
    "        if f_x1 > f_x2:\n",
    "            a = x1\n",
    "            x1, f_x1 = x2, f_x2\n",
    "            x2 = b - alfa * (b - a)\n",
    "            f_x2 = f(x2)\n",
    "        else:\n",
    "            b = x2\n",
    "            x2, f_x2 = x1, f_x1\n",
    "            x1 = a + alfa * (b - a)\n",
    "            f_x1 = f(x1)\n",
    "        table.loc[len(table)] = [a, b, b-a, x1, x2, f_x1, f_x2] \n",
    "    \n",
    "    table.loc[len(table)] = [a, b, b-a] + [None]*4\n",
    "\n",
    "    return table, (a + b) / 2\n",
    "\n",
    "f = lambda x: x**2 + 2*x - 4\n",
    "table, result = golden_ratio(f, (-2, 1), 0.1)\n",
    "\n",
    "print(table)\n",
    "print(result)"
   ]
  }
 ],
 "metadata": {
  "kernelspec": {
   "display_name": "Python 3",
   "language": "python",
   "name": "python3"
  },
  "language_info": {
   "codemirror_mode": {
    "name": "ipython",
    "version": 3
   },
   "file_extension": ".py",
   "mimetype": "text/x-python",
   "name": "python",
   "nbconvert_exporter": "python",
   "pygments_lexer": "ipython3",
   "version": "3.11.7"
  }
 },
 "nbformat": 4,
 "nbformat_minor": 2
}
