{
 "cells": [
  {
   "cell_type": "markdown",
   "metadata": {},
   "source": [
    "# Объяснение метода"
   ]
  },
  {
   "cell_type": "code",
   "execution_count": 91,
   "metadata": {},
   "outputs": [
    {
     "data": {
      "text/latex": [
       "$\\displaystyle x^{2} + x y + x + 2 y^{2} - y$"
      ],
      "text/plain": [
       "x**2 + x*y + x + 2*y**2 - y"
      ]
     },
     "execution_count": 91,
     "metadata": {},
     "output_type": "execute_result"
    }
   ],
   "source": [
    "import numpy as np\n",
    "import sympy as sym\n",
    "from sympy import exp\n",
    "\n",
    "x0 = np.array([0, 0], dtype=float)\n",
    "\n",
    "# переменные\n",
    "x, y = sym.symbols(\"x y\")\n",
    "\n",
    "# функция 7 варианта\n",
    "# f = 10 - (x - 3) * exp(-x + 3) - (y - 2) * exp(-x + 2)\n",
    "# функция с методички\n",
    "f = x**2 + x*y + 2*y**2 + x - y\n",
    "\n",
    "f"
   ]
  },
  {
   "cell_type": "code",
   "execution_count": 92,
   "metadata": {},
   "outputs": [
    {
     "data": {
      "text/plain": [
       "(x, y)"
      ]
     },
     "execution_count": 92,
     "metadata": {},
     "output_type": "execute_result"
    }
   ],
   "source": [
    "lmbd = sym.symbols('lmbd')\n",
    "\n",
    "variables = (x,y)\n",
    "variables"
   ]
  },
  {
   "cell_type": "code",
   "execution_count": 93,
   "metadata": {},
   "outputs": [
    {
     "data": {
      "text/plain": [
       "[lmbd + x + 2*y**2 + y*(lmbd + x) - y + (lmbd + x)**2,\n",
       " -lmbd + x**2 + x*(lmbd + y) + x - y + 2*(lmbd + y)**2]"
      ]
     },
     "execution_count": 93,
     "metadata": {},
     "output_type": "execute_result"
    }
   ],
   "source": [
    "# замена каждой переменной на [переменная + lmbd]\n",
    "f_replaced = [f.subs(variable, variable + lmbd) \n",
    "              for variable in variables]\n",
    "\n",
    "f_replaced"
   ]
  },
  {
   "cell_type": "code",
   "execution_count": 94,
   "metadata": {},
   "outputs": [
    {
     "data": {
      "text/plain": [
       "[2*lmbd + 2*x + y + 1, 4*lmbd + x + 4*y - 1]"
      ]
     },
     "execution_count": 94,
     "metadata": {},
     "output_type": "execute_result"
    }
   ],
   "source": [
    "# градиент по lmbd\n",
    "f_replaced_grad = [sym.diff(f, lmbd) for f in f_replaced]\n",
    "\n",
    "f_replaced_grad"
   ]
  },
  {
   "cell_type": "code",
   "execution_count": 95,
   "metadata": {},
   "outputs": [
    {
     "data": {
      "text/plain": [
       "[-x - y/2 - 1/2, -x/4 - y + 1/4]"
      ]
     },
     "execution_count": 95,
     "metadata": {},
     "output_type": "execute_result"
    }
   ],
   "source": [
    "# выражение n штук lmbd через n переменных функции f\n",
    "lmbds = [sym.solve(f, lmbd)[0] for f in f_replaced_grad]\n",
    "\n",
    "lmbds"
   ]
  },
  {
   "cell_type": "code",
   "execution_count": 96,
   "metadata": {},
   "outputs": [
    {
     "data": {
      "text/plain": [
       "[<function _lambdifygenerated(x, y)>, <function _lambdifygenerated(x, y)>]"
      ]
     },
     "execution_count": 96,
     "metadata": {},
     "output_type": "execute_result"
    }
   ],
   "source": [
    "# превращение в лямбда-функцию\n",
    "lmbds = [sym.lambdify(variables, lmbd) for lmbd in lmbds]\n",
    "\n",
    "lmbds"
   ]
  },
  {
   "cell_type": "code",
   "execution_count": 97,
   "metadata": {},
   "outputs": [
    {
     "data": {
      "text/plain": [
       "(array([-0.5,  0. ]), array([0., 0.]))"
      ]
     },
     "execution_count": 97,
     "metadata": {},
     "output_type": "execute_result"
    }
   ],
   "source": [
    "# 1 итерация\n",
    "x1 = x0.copy()\n",
    "\n",
    "lmbd1 = lmbds[0](*x1)\n",
    "\n",
    "x1[0] += lmbd1\n",
    "\n",
    "x1, x0"
   ]
  },
  {
   "cell_type": "code",
   "execution_count": 98,
   "metadata": {},
   "outputs": [
    {
     "data": {
      "text/plain": [
       "(array([-0.5  ,  0.375]), array([0., 0.]))"
      ]
     },
     "execution_count": 98,
     "metadata": {},
     "output_type": "execute_result"
    }
   ],
   "source": [
    "lmbd2 = lmbds[1](*x1)\n",
    "\n",
    "x1[1] += lmbd2\n",
    "\n",
    "x1, x0"
   ]
  },
  {
   "cell_type": "code",
   "execution_count": 99,
   "metadata": {},
   "outputs": [
    {
     "data": {
      "text/plain": [
       "(0.625, False)"
      ]
     },
     "execution_count": 99,
     "metadata": {},
     "output_type": "execute_result"
    }
   ],
   "source": [
    "# проверка на выход из алгоритма\n",
    "norm = np.linalg.norm\n",
    "\n",
    "eps = 0.1\n",
    "\n",
    "norm(x1 - x0), norm(x1 - x0) < eps"
   ]
  },
  {
   "cell_type": "markdown",
   "metadata": {},
   "source": [
    "# Метод Гаусса-Зейделя"
   ]
  },
  {
   "cell_type": "code",
   "execution_count": 100,
   "metadata": {},
   "outputs": [],
   "source": [
    "import sympy as sym\n",
    "import numpy as np\n",
    "norm = np.linalg.norm\n",
    "\n",
    "def gauss_seidel_method(\n",
    "    variables: tuple[sym.Symbol],\n",
    "    f: sym.Add,\n",
    "    x0: np.ndarray,\n",
    "    eps: float\n",
    ") -> float:\n",
    "    lmbd = sym.symbols('lmbd')\n",
    "\n",
    "    # замена каждой переменной на [переменная + lmbd]\n",
    "    f_replaced = [f.subs(variable, variable + lmbd) \n",
    "                  for variable in variables]\n",
    "    \n",
    "    print(f_replaced)\n",
    "    \n",
    "    # градиент по lmbd\n",
    "    f_replaced_grad = [sym.diff(f, lmbd) \n",
    "                       for f in f_replaced]\n",
    "\n",
    "    # выражение n штук lmbd через n переменных функции f\n",
    "    lmbds = [sym.solve(f, lmbd)[0] \n",
    "             for f in f_replaced_grad]\n",
    "\n",
    "    # превращение выражений в лямбда-функции\n",
    "    lmbds = [sym.lambdify(variables, lmbd) \n",
    "             for lmbd in lmbds]\n",
    "    \n",
    "    x1 = x0.copy()\n",
    "\n",
    "    # типо while true\n",
    "    for _ in range(10**4):\n",
    "        for i in range(len(lmbds)):\n",
    "            x1[i] += lmbds[i](*x1)\n",
    "        print(f'итерация {_}: {x1}')\n",
    "        \n",
    "        if norm(x1 - x0) < eps:\n",
    "            return x1\n",
    "        x0 = x1.copy()"
   ]
  },
  {
   "cell_type": "code",
   "execution_count": 101,
   "metadata": {},
   "outputs": [
    {
     "name": "stdout",
     "output_type": "stream",
     "text": [
      "[lmbd + x + 2*y**2 + y*(lmbd + x) - y + (lmbd + x)**2, -lmbd + x**2 + x*(lmbd + y) + x - y + 2*(lmbd + y)**2]\n",
      "итерация 0: [-0.5    0.375]\n",
      "итерация 1: [-0.6875    0.421875]\n",
      "итерация 2: [-0.7109375   0.42773438]\n"
     ]
    },
    {
     "data": {
      "text/plain": [
       "array([-0.7109375 ,  0.42773438])"
      ]
     },
     "execution_count": 101,
     "metadata": {},
     "output_type": "execute_result"
    }
   ],
   "source": [
    "x, y = sym.symbols('x y')\n",
    "\n",
    "# функция 7 варианта\n",
    "# f = 10 - (x - 3) * exp(-x + 3) - (y - 2) * exp(-x + 2)\n",
    "\n",
    "# функция с методочки\n",
    "f = x**2 + x*y + 2*y**2 + x - y\n",
    "\n",
    "x0 = np.array([0, 0], dtype=float)\n",
    "\n",
    "eps = 0.1\n",
    "\n",
    "# answer -5/7 и 3/7\n",
    "gauss_seidel_method((x, y), f, x0, eps)"
   ]
  }
 ],
 "metadata": {
  "kernelspec": {
   "display_name": "Python 3",
   "language": "python",
   "name": "python3"
  },
  "language_info": {
   "codemirror_mode": {
    "name": "ipython",
    "version": 3
   },
   "file_extension": ".py",
   "mimetype": "text/x-python",
   "name": "python",
   "nbconvert_exporter": "python",
   "pygments_lexer": "ipython3",
   "version": "3.11.5"
  }
 },
 "nbformat": 4,
 "nbformat_minor": 2
}
