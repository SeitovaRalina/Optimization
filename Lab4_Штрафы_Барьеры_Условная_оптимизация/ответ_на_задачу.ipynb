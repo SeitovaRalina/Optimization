{
 "cells": [
  {
   "cell_type": "code",
   "execution_count": 1,
   "metadata": {},
   "outputs": [
    {
     "data": {
      "text/plain": [
       " message: Optimization terminated successfully\n",
       " success: True\n",
       "  status: 0\n",
       "     fun: -74.76561966701715\n",
       "       x: [ 4.123e+00  8.903e+00]\n",
       "     nit: 10\n",
       "     jac: [ 4.000e+00 -1.781e+01]\n",
       "    nfev: 32\n",
       "    njev: 10"
      ]
     },
     "execution_count": 1,
     "metadata": {},
     "output_type": "execute_result"
    }
   ],
   "source": [
    "from scipy.optimize import minimize, Bounds, NonlinearConstraint\n",
    "import numpy as np\n",
    "\n",
    "# ограничения неотрицательности\n",
    "bounds = Bounds([0,0])\n",
    "\n",
    "# единственное ограничение\n",
    "constraints = NonlinearConstraint(\n",
    "    lambda x: 10*x[0] - x[0]**2 + 10*x[1] - x[1]**2, 34, np.inf\n",
    ")\n",
    "\n",
    "res = minimize(\n",
    "    fun=lambda x: 4*x[0] - x[1]**2 - 12,\n",
    "    x0=[2,4],\n",
    "    bounds=bounds,\n",
    "    constraints=constraints\n",
    ")\n",
    "res"
   ]
  },
  {
   "cell_type": "code",
   "execution_count": 2,
   "metadata": {},
   "outputs": [
    {
     "data": {
      "text/plain": [
       "array([4.12325112, 8.90273127])"
      ]
     },
     "execution_count": 2,
     "metadata": {},
     "output_type": "execute_result"
    }
   ],
   "source": [
    "res.x"
   ]
  }
 ],
 "metadata": {
  "kernelspec": {
   "display_name": "Python 3",
   "language": "python",
   "name": "python3"
  },
  "language_info": {
   "codemirror_mode": {
    "name": "ipython",
    "version": 3
   },
   "file_extension": ".py",
   "mimetype": "text/x-python",
   "name": "python",
   "nbconvert_exporter": "python",
   "pygments_lexer": "ipython3",
   "version": "3.10.11"
  }
 },
 "nbformat": 4,
 "nbformat_minor": 2
}
